{
  "nbformat": 4,
  "nbformat_minor": 0,
  "metadata": {
    "colab": {
      "provenance": []
    },
    "kernelspec": {
      "name": "python3",
      "display_name": "Python 3"
    },
    "language_info": {
      "name": "python"
    }
  },
  "cells": [
    {
      "cell_type": "markdown",
      "source": [
        "**ECSE 422 Project**\n",
        "\n",
        "**Team Members:**\n",
        "\n",
        "*   Shabthana Kandasamy - 260927788\n",
        "*   Ping Gu - 260446005\n",
        "*   Rambod Azimi - 260911967"
      ],
      "metadata": {
        "id": "zwgQqjqZX9Ji"
      }
    },
    {
      "cell_type": "markdown",
      "source": [
        "**Part 1: Exhaustive Enumeration**"
      ],
      "metadata": {
        "id": "oMIskQbYYWDk"
      }
    },
    {
      "cell_type": "markdown",
      "source": [
        "**Implementation**\n",
        "\n",
        "1.   Read the input text file, extract information, and store to their corresponding variables (*N, reliability_matrix, cost_matrix*). To do so, we have implemented a function called *read_numbers_from_file()* which takes a filename as input, reads the file line by line, ignores lines starting with # (comments), extracts N from the first line, reads the remaining numbers into a list, and finally stores the values in their corresponding variables.\n",
        "\n",
        "2.   Determine all possible network combinations by generating binary numbers with N*(N-1)/2 *italicized text* bits. Given N nodes, we can have 2^(N*(N-1)/2) *italicized text* possible combinations. Therefore, a binary number with that number of digits could cover all possible combinations. We do so by implementing the *generate_binary_numbers()* function. We store all combinations in the *binary_numbers* list.\n",
        "\n",
        "3. Not all possible combinations are feasible. For example, some combinations do not result in a connected network. To eliminate these combinations, we check whether the created network is connected or not. First, we convert each binary number (representing an *edge list*) into an *adjacency list* by calling the function *binary_to_adjacency()*. This function returns a list called *adj_matrix*, which is then used as input for another function named *is_connected()*. The is_connected() function runs the *Depth-First Search* (DFS) algorithm to determine whether the connected components can traverse all the nodes within the network or not.\n",
        "\n",
        "4. We iterate over all possible combinations (*binary_numbers*) and eliminate ones that are not connected, and store the remaining to another list called *connected_numbers*.\n",
        "\n",
        "5. We further eliminate combinations that exceed the cost limit. Given an integer number *cost_limit*, we calculate the total cost of the network using the *calculate_total_cost()* function. If the calculated cost exceeds the cost limit, we remove the combination from the list. This is achieved by iterating over each digit of each remaining binary number, adding the corresponding cost if the digit is '1'. The remaining combinations are then stored in a new list called *feasible_numbers*.\n",
        "\n",
        "6. Now that we have a set of all possible networks that are both connected and do not exceed the cost limit, represented by their binary numbers (feasible_numbers), we start calculating the reliability of each network in order to find the highest reliability. To do so, we implement the following functions:\n",
        "\n",
        "*   *calculate_single_reliability()*: Given a network represented by its binary number, we calculate the reliability by multiplying the edges that are connected in the graph. This function is used only when our network is a spanning tree (with no redundancy), so that the total reliability is a simple multiplication of all edge reliabilities.\n",
        "\n",
        "*   *calculate_reliability()*: Given a network represented by its binary number, we calculate the reliability by considering redundancies as well. If there's only one redundancy (i.e., the number of edges = N), we use *generate_variations()* to generate any possible sub-network from that network that is still possible. By combining all those generated sub-networks and summing up the reliability values, we calculate the total reliability of that network with one redundancy.\n",
        "\n",
        "*   *generate_variations()*: Given a network (represented by its binary edge list), generate all possible sub-networks with 1 edge less.\n",
        "\n",
        "*   *generate_variations_all()*: Given a network represented by its binary edge list, we aim to generate all possible sub-networks with two or more edges removed. We achieve this by recursively calling the function on each generated variation until we have combined all possible sub-networks while respecting the connectivity constraint. Then, we flatten the list, remove any duplicates, and return the final result.\n",
        "\n",
        "7. We store the calculated reliabilities in a list named *reliabilities*.\n",
        "\n",
        "8. We find the highest reliability by sorting the reliabilities list and returning the first element.\n",
        "\n",
        "9. Finally, we print important results for the network design.\n",
        "\n",
        "10. For the interesting feature, we implement a simple GUI representation of the selected newrork graph with the highest reliability.\n"
      ],
      "metadata": {
        "id": "qtGcRbuad5uX"
      }
    },
    {
      "cell_type": "code",
      "source": [
        "# This function reads the input files and stores the information into their corresponding variables\n",
        "def read_numbers_from_file(filename):\n",
        "  numbers = []\n",
        "\n",
        "  with open(filename, 'r') as file:\n",
        "    lines = file.readlines()\n",
        "\n",
        "    # Filter out comment lines and strip whitespace\n",
        "    lines = [line.strip() for line in lines if not line.strip().startswith(\"#\")]\n",
        "\n",
        "    # Extract N from the first line\n",
        "    N = int(lines[0])\n",
        "\n",
        "    # Read the remaining numbers into the list\n",
        "    for line in lines[1:]:\n",
        "      numbers.extend(map(float, line.split()))\n",
        "\n",
        "  # Create 2 lists for storing reliability and cost values\n",
        "  reliability_matrix = []\n",
        "  cost_matrix = []\n",
        "\n",
        "  # Iterate over all values and store them into the lists\n",
        "  for i in range(N*(N-1)//2):\n",
        "    reliability_matrix.append(numbers[i])\n",
        "    cost_matrix.append(numbers[(N*(N-1)//2) + i])\n",
        "\n",
        "  return N, reliability_matrix, cost_matrix\n",
        "\n",
        "filename = \"4_city.txt\"\n",
        "N, reliability_matrix, cost_matrix = read_numbers_from_file(filename)\n",
        "\n",
        "print(\"N:\", N)\n",
        "print(\"Reliability Matrix:\", reliability_matrix)\n",
        "print(\"Cost Matrix:\", cost_matrix)"
      ],
      "metadata": {
        "id": "hDil2a_nYLn4",
        "colab": {
          "base_uri": "https://localhost:8080/"
        },
        "outputId": "644d9afc-a8f9-4927-bc2f-61754572feec"
      },
      "execution_count": 368,
      "outputs": [
        {
          "output_type": "stream",
          "name": "stdout",
          "text": [
            "N: 4\n",
            "Reliability Matrix: [0.94, 0.9, 0.94, 0.93, 0.96, 0.91]\n",
            "Cost Matrix: [15.0, 20.0, 10.0, 15.0, 10.0, 20.0]\n"
          ]
        }
      ]
    },
    {
      "cell_type": "code",
      "source": [
        "# This function generates a list of binary digit representing edge lists\n",
        "def generate_binary_numbers(n):\n",
        "    max_num = 2 ** (n * (n - 1) // 2)\n",
        "    binary_numbers = []\n",
        "    for i in range(max_num):\n",
        "        binary_numbers.append(bin(i)[2:].zfill(n * (n - 1) // 2))\n",
        "    return binary_numbers\n",
        "\n",
        "binary_numbers = generate_binary_numbers(N)\n",
        "print(f\"{len(binary_numbers)} possible combinations when N = {N}.\")"
      ],
      "metadata": {
        "colab": {
          "base_uri": "https://localhost:8080/"
        },
        "id": "obgTsNjc0cGY",
        "outputId": "10c7397e-ab58-4218-e9c8-02f324b83d51"
      },
      "execution_count": 369,
      "outputs": [
        {
          "output_type": "stream",
          "name": "stdout",
          "text": [
            "64 possible combinations when N = 4.\n"
          ]
        }
      ]
    },
    {
      "cell_type": "code",
      "source": [
        "# This function converts the edge matrix (binary representation) into an adjacency matrix\n",
        "def binary_to_adjacency(binary_digit):\n",
        "    n = N\n",
        "    adjacency_matrix = [[0] * n for _ in range(n)]  # Initialize adjacency matrix with zeros\n",
        "    idx = 0\n",
        "    for i in range(n):\n",
        "        for j in range(i+1, n):\n",
        "            adjacency_matrix[i][j] = int(binary_digit[idx])  # Fill upper triangular part\n",
        "            adjacency_matrix[j][i] = int(binary_digit[idx])  # Fill lower triangular part (graph is undirected)\n",
        "            idx += 1\n",
        "    return adjacency_matrix\n",
        "\n",
        "# This function determines if a network (represented by its adjacency matrix) is connected or not\n",
        "def is_connected(adj_matrix):\n",
        "    def dfs(node, visited):\n",
        "        visited[node] = True\n",
        "        for neighbor, connected in enumerate(adj_matrix[node]):\n",
        "            if connected and not visited[neighbor]:\n",
        "                dfs(neighbor, visited)\n",
        "\n",
        "    n = len(adj_matrix)\n",
        "    visited = [False] * n\n",
        "    dfs(0, visited)\n",
        "\n",
        "    # If any node remains unvisited, the graph is not connected\n",
        "    return all(visited)"
      ],
      "metadata": {
        "id": "hp1kToImol6Z"
      },
      "execution_count": 370,
      "outputs": []
    },
    {
      "cell_type": "code",
      "source": [
        "# Out of all possible combinations we have for network design, some of them are infeasible as the network would not be connected.\n",
        "# Therefore, we eliminate those combinations that do not make a connected network\n",
        "\n",
        "connected_numbers = [] # Valid combinations that create a connected network\n",
        "for binary in binary_numbers:\n",
        "  adj_matrix = binary_to_adjacency(binary)\n",
        "  if (is_connected(adj_matrix)):\n",
        "    connected_numbers.append(binary)\n",
        "\n",
        "print(f\"{len(connected_numbers)} possible combinations out of {len(binary_numbers)} total combinations are connected.\")"
      ],
      "metadata": {
        "colab": {
          "base_uri": "https://localhost:8080/"
        },
        "id": "in6AMRsSwJQT",
        "outputId": "aef4582f-01ad-4af3-d4bb-ec298e619fab"
      },
      "execution_count": 371,
      "outputs": [
        {
          "output_type": "stream",
          "name": "stdout",
          "text": [
            "38 possible combinations out of 64 total combinations are connected.\n"
          ]
        }
      ]
    },
    {
      "cell_type": "code",
      "source": [
        "# Eliminate combinations that exceed the cost limit\n",
        "# This function calculates the total cost of a given network\n",
        "def calculate_total_cost(binary):\n",
        "  total_cost = 0\n",
        "  for digit in range(len(binary)):\n",
        "    if binary[digit] == \"1\":\n",
        "      total_cost += cost_matrix[digit]\n",
        "  return total_cost\n",
        "\n",
        "# Maximum cost for the network\n",
        "cost_limit = 50\n",
        "\n",
        "feasible_numbers = []\n",
        "for binary in connected_numbers:\n",
        "  cost = calculate_total_cost(binary)\n",
        "  if cost <= cost_limit:\n",
        "    feasible_numbers.append(binary)\n",
        "\n",
        "print(f\"{len(feasible_numbers)} possible combinations out of {len(binary_numbers)} total combinations are feasible (connected and cost <= {cost_limit})\")"
      ],
      "metadata": {
        "colab": {
          "base_uri": "https://localhost:8080/"
        },
        "id": "kSOotOjuBl41",
        "outputId": "b084958f-fa99-4620-ca61-76f5fd636c96"
      },
      "execution_count": 372,
      "outputs": [
        {
          "output_type": "stream",
          "name": "stdout",
          "text": [
            "15 possible combinations out of 64 total combinations are feasible (connected and cost <= 50)\n"
          ]
        }
      ]
    },
    {
      "cell_type": "code",
      "source": [
        "# This will print all the feasible networks respecting both connectiveness and cost limit\n",
        "for binary in feasible_numbers:\n",
        "  print(f\"{binary} has a total cost of {calculate_total_cost(binary)}\")"
      ],
      "metadata": {
        "colab": {
          "base_uri": "https://localhost:8080/"
        },
        "id": "rUt7mWb4DmRX",
        "outputId": "5f759c5c-270e-4677-d488-b89c5f08b6c5"
      },
      "execution_count": 373,
      "outputs": [
        {
          "output_type": "stream",
          "name": "stdout",
          "text": [
            "001011 has a total cost of 40.0\n",
            "001101 has a total cost of 45.0\n",
            "001110 has a total cost of 35.0\n",
            "010011 has a total cost of 50.0\n",
            "010110 has a total cost of 45.0\n",
            "011010 has a total cost of 40.0\n",
            "011100 has a total cost of 45.0\n",
            "100011 has a total cost of 45.0\n",
            "100101 has a total cost of 50.0\n",
            "100110 has a total cost of 40.0\n",
            "101001 has a total cost of 45.0\n",
            "101100 has a total cost of 40.0\n",
            "101110 has a total cost of 50.0\n",
            "110010 has a total cost of 45.0\n",
            "111000 has a total cost of 45.0\n"
          ]
        }
      ]
    },
    {
      "cell_type": "code",
      "source": [
        "# Given a network (represented by its binary edge list), generate all possible sub-networks with 1 edge less\n",
        "def generate_variations(binary_str):\n",
        "    variations = [binary_str]\n",
        "\n",
        "    for i in range(len(binary_str)):\n",
        "        if binary_str[i] == '1':\n",
        "            variation = binary_str[:i] + '0' + binary_str[i+1:]\n",
        "            if(variation.count(\"1\") >= (N-1) and is_connected(binary_to_adjacency(variation))):\n",
        "              variations.extend(generate_variations(variation))\n",
        "\n",
        "    return variations\n",
        "\n",
        "# Given a network (represented by its binary edge list), generate all possible networks with 2 or more edges less\n",
        "def generate_variations_all(binary):\n",
        "  variations = [binary]\n",
        "\n",
        "  for i in range(len(binary)):\n",
        "    if binary[i] == '1':\n",
        "      variation = binary[:i] + '0' + binary[i+1:]\n",
        "      if(variation.count(\"1\") >= (N-1) and is_connected(binary_to_adjacency(variation))):\n",
        "        variations.extend(generate_variations(variation))\n",
        "  variations.pop(0)\n",
        "\n",
        "  big_list = []\n",
        "  big_list.append(variations)\n",
        "\n",
        "  for bin in variations:\n",
        "    if(bin.count(\"1\") > (N-1)):\n",
        "      big_list.append(generate_variations(bin))\n",
        "\n",
        "  flattened_list = [element for sublist in big_list for element in sublist]\n",
        "  unique_combinations = []\n",
        "\n",
        "  for combination in flattened_list:\n",
        "    if combination not in unique_combinations:\n",
        "        unique_combinations.append(combination)\n",
        "\n",
        "  return unique_combinations"
      ],
      "metadata": {
        "id": "XdWX5-bQ04vp"
      },
      "execution_count": 374,
      "outputs": []
    },
    {
      "cell_type": "code",
      "source": [
        "# Use a Brute-force method to calculate the network reliability of each feasible network and find the highest reliability\n",
        "def calculate_single_reliability(binary, org):\n",
        "  reliability = 1.0\n",
        "  for digit in range(len(binary)):\n",
        "    if binary[digit] == \"1\":\n",
        "      reliability *= reliability_matrix[digit]\n",
        "    else:\n",
        "      if(org[digit] == \"1\"):\n",
        "        reliability *= (1 - reliability_matrix[digit])\n",
        "  return reliability\n",
        "\n",
        "def calculate_reliability(binary):\n",
        "  if(binary.count('1') == N-1): # if the network is a spanning tree (no redundancy)\n",
        "    reliability = 1.0\n",
        "    for digit in range(len(binary)):\n",
        "      if binary[digit] == \"1\":\n",
        "        reliability *= reliability_matrix[digit]\n",
        "    return reliability\n",
        "\n",
        "  elif(binary.count('1') == N): # if we have 1 redundency\n",
        "    reliability = 0.0\n",
        "    possible_networks = generate_variations(binary) # generate all feasible combinations\n",
        "    for network in possible_networks:\n",
        "      reliability += calculate_single_reliability(network, binary) # add up the reliabilities\n",
        "    return reliability\n",
        "\n",
        "  else: # more than 1 redundancy\n",
        "    reliability = 0.0\n",
        "    possible_networks = generate_variations_all(binary) # generate all feasible combinations\n",
        "    possible_networks.append(binary)\n",
        "    for network in possible_networks:\n",
        "      reliability += calculate_single_reliability(network, binary) # add up the reliabilities\n",
        "    return reliability\n",
        "\n",
        "reliabilities = []\n",
        "for binary in feasible_numbers:\n",
        "  reliabilities.append(calculate_reliability(binary))"
      ],
      "metadata": {
        "id": "uH2if0mxFWrb"
      },
      "execution_count": 375,
      "outputs": []
    },
    {
      "cell_type": "code",
      "source": [
        "# Printing all results\n",
        "print(\"Summary of the network design using Exhaustive Enumeration:\\n\")\n",
        "\n",
        "print(\"N:\", N)\n",
        "print(\"Reliability Matrix:\", reliability_matrix)\n",
        "print(\"Cost Matrix:\", cost_matrix)\n",
        "print(\"Cost Limit:\", cost_limit)\n",
        "\n",
        "print(f\"{len(binary_numbers)} possible combinations when N = {N}.\")\n",
        "print(f\"{len(feasible_numbers)} possible combinations out of {len(binary_numbers)} total combinations are feasible (connected and cost <= {cost_limit})\")\n",
        "\n",
        "# Finding the highest Reliability\n",
        "max_reliability = 0.0\n",
        "for r in range(len(reliabilities)):\n",
        "  if reliabilities[r] > max_reliability:\n",
        "    max_reliability = reliabilities[r]\n",
        "    feas = feasible_numbers[r]\n",
        "\n",
        "for r in range(len(reliabilities)):\n",
        "  print(f\"{r+1}: {feasible_numbers[r]} has a reliability {reliabilities[r]} and cost {calculate_total_cost(feasible_numbers[r])}\")\n",
        "\n",
        "print(f\"\\nHighest Reliability: {max_reliability} with cost {calculate_total_cost(feas)} and binary value {feas}\")\n"
      ],
      "metadata": {
        "colab": {
          "base_uri": "https://localhost:8080/"
        },
        "id": "O7aKlQiEruRy",
        "outputId": "c26d2f11-67f3-4890-a349-d2dfbe3aa6e7"
      },
      "execution_count": 376,
      "outputs": [
        {
          "output_type": "stream",
          "name": "stdout",
          "text": [
            "Summary of the network design using Exhaustive Enumeration:\n",
            "\n",
            "N: 4\n",
            "Reliability Matrix: [0.94, 0.9, 0.94, 0.93, 0.96, 0.91]\n",
            "Cost Matrix: [15.0, 20.0, 10.0, 15.0, 10.0, 20.0]\n",
            "Cost Limit: 50\n",
            "64 possible combinations when N = 4.\n",
            "15 possible combinations out of 64 total combinations are feasible (connected and cost <= 50)\n",
            "1: 001011 has a reliability 0.8211839999999999 and cost 40.0\n",
            "2: 001101 has a reliability 0.795522 and cost 45.0\n",
            "3: 001110 has a reliability 0.839232 and cost 35.0\n",
            "4: 010011 has a reliability 0.78624 and cost 50.0\n",
            "5: 010110 has a reliability 0.80352 and cost 45.0\n",
            "6: 011010 has a reliability 0.81216 and cost 40.0\n",
            "7: 011100 has a reliability 0.78678 and cost 45.0\n",
            "8: 100011 has a reliability 0.8211839999999999 and cost 45.0\n",
            "9: 100101 has a reliability 0.795522 and cost 50.0\n",
            "10: 100110 has a reliability 0.839232 and cost 40.0\n",
            "11: 101001 has a reliability 0.804076 and cost 45.0\n",
            "12: 101100 has a reliability 0.821748 and cost 40.0\n",
            "13: 101110 has a reliability 0.9224558400000001 and cost 50.0\n",
            "14: 110010 has a reliability 0.81216 and cost 45.0\n",
            "15: 111000 has a reliability 0.79524 and cost 45.0\n",
            "\n",
            "Highest Reliability: 0.9224558400000001 with cost 50.0 and binary value 101110\n"
          ]
        }
      ]
    },
    {
      "cell_type": "code",
      "source": [
        "import networkx as nx\n",
        "import matplotlib.pyplot as plt\n",
        "\n",
        "def plot_graph(N, binary_edge_list):\n",
        "    if(binary_edge_list == \"\"):\n",
        "      return\n",
        "    # Create an empty graph\n",
        "    G = nx.Graph()\n",
        "\n",
        "    # Add nodes to the graph\n",
        "    for node in range(N):\n",
        "        G.add_node(node)\n",
        "\n",
        "    # Convert binary edge list to list of tuples representing edges\n",
        "    edges = []\n",
        "    idx = 0\n",
        "    for i in range(N):\n",
        "        for j in range(i+1, N):\n",
        "            if binary_edge_list[idx] == '1':\n",
        "                edges.append((i, j))\n",
        "            idx += 1\n",
        "\n",
        "    # Add edges to the graph\n",
        "    G.add_edges_from(edges)\n",
        "\n",
        "    # Draw the graph\n",
        "    nx.draw(G, with_labels=True, node_color='skyblue', node_size=800, font_size=10, font_weight='bold')\n",
        "    plt.title('Network Design')\n",
        "    plt.show()\n",
        "\n",
        "plot_graph(N, feas)\n"
      ],
      "metadata": {
        "colab": {
          "base_uri": "https://localhost:8080/",
          "height": 539
        },
        "id": "uZOWz_I1v_id",
        "outputId": "25092538-761b-4866-fca3-0dd5159a0014"
      },
      "execution_count": 377,
      "outputs": [
        {
          "output_type": "display_data",
          "data": {
            "text/plain": [
              "<Figure size 640x480 with 1 Axes>"
            ],
            "image/png": "[encoded data removed]"
          },
          "metadata": {}
        }
      ]
    },
    {
      "cell_type": "markdown",
      "source": [
        "**Part 2: Efficient Algorithm**"
      ],
      "metadata": {
        "id": "nh_cSGw7YlgC"
      }
    },
    {
      "cell_type": "code",
      "source": [
        "# TODO"
      ],
      "metadata": {
        "id": "oqFpWw5YYr7X"
      },
      "execution_count": 378,
      "outputs": []
    }
  ]
}